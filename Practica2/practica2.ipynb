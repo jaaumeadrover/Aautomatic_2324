{
 "cells": [
  {
   "cell_type": "markdown",
   "id": "8bb71ba7-a351-411f-b738-50cf9a73e864",
   "metadata": {},
   "source": [
    "# Pràctica 2"
   ]
  },
  {
   "cell_type": "markdown",
   "id": "9dbbd51b-cc45-44e7-90cd-bbbc0e6e150a",
   "metadata": {},
   "source": [
    "L'objectiu d'aquesta segona pràctica es demostrar que heu assolit els conceptes que s'han explicar a l'assignatura i s'han practicat a les sessions presencials, relacionats amb el disseny i l'ús de xarxes neurals\n",
    "\n",
    "### Condicions\n",
    "\n",
    "1. El model que solucioni el problema estarà basat en xarxes neurals, aquestes s'han d'entrenar i avaluar emprant la llibreria Pytorch.\n",
    "2. Es demana que com a mínim s'avaluin 2 models diferents: un que ha d'estar creat per vosaltres i un altre que es basi en una xarxa ja existent. Evidentment es permeten modificacions de la ja existent per adaptar-ho al problema que es vol resoldre.\n",
    "3. El resultat del treball serà un informe on s'expliqui el procés que s'ha dut a terme per arribar a la que considereu que és millor solució. El document serà en format pdf. Podreu adjuntar una carpeta amb el codi i recursos que trobeu necessaris per comprovar la veracitat del que explicau al document.\n",
    "\n",
    "4. Aquest document ha de tenir un llenguatge formal i tècnic i ha d'estar correctament estructurat:\n",
    "    - Introducció al problema que es soluciona.\n",
    "    - Solucions considerades (dades, característiques, models, mètriques).\n",
    "    - Experiments realitzats.\n",
    "    - Resultats dels experiments.\n",
    "    - Conclusions.\n",
    "5. A més del document explicatiu s'ha d'adjuntar (o enllaçar) un fitxer amb els pesos del millor entrenament de cada una de les xarxes que heu emprat (la que heu dissenyat vosaltres i la que ja existia), de tal manera que el professor pugui validar els resultats sense haver de repetir l'entrenament. Sense l'adjunció (enllaç) d'aquests fitxers la pràctica no es podrà aprovar.\n",
    "\n",
    "### Avaluació\n",
    "\n",
    "1. El treball es durà a terme en parelles.\n",
    "2. El professor es reserva la possibilitat de convocar als grups a una revisió de la pràctica de forma presencial.\n",
    "3. Per la xarxa que vosaltres dissenyeu, només està permés emprar tècniques de disseny i entrenament vistes a classe.\n",
    "4. Tot el que no està fet pels alumnes ha d'estar referenciat, en cas contrari es considerarà com una còpia.\n",
    "5. Per arribar a la solució és **obligatori** seguir les bones pràctiques de l'àrea a la preparació de les dades, entrenament i la validació dels resultats.\n",
    "\n",
    "### Data d'entrega\n",
    "\n",
    "Aquest treball es pot entregar fins el dia de l'examen a les 23:55 h tant per la convocatòria ordinaria com per l'extraordinària.\n",
    "   Es realitzarà una tutoria dia  XXXX de gener a les XXXX.\n"
   ]
  },
  {
   "cell_type": "markdown",
   "id": "2ba7b338-5c3d-46d2-b0d1-05f19e4866f7",
   "metadata": {},
   "source": [
    "## Enunciat\n",
    "\n",
    "Us proporciono el següent conjunt de dades: [The Oxford-IIIT Pet Dataset ](https://www.robots.ox.ac.uk/~vgg/data/pets/). En paraules dels seus creadors: \"Hem creat un conjunt de dades de mascotes de 37 categories amb unes 200 imatges per a cada classe. Les imatges tenen grans variacions d'escala, pose i il·luminació. Totes les imatges tenen una anotació associada a la raça, la posició del cap i la segmentació del mapa de nivell de píxels.\"\n",
    "\n",
    "Amb aquest conjunt podeu realitzar 4 tasques diferents:\n",
    "\n",
    "1. Classificació cans vs moixos: ha d'haver mínim una xarxa pròpia i un model ja existent. (màxim un 7)\n",
    "2. Classificació de la raça (2 punt extra)\n",
    "3. Detecció de la posició del cap (2 punt extra)\n",
    "4. Segmentació de l'animal (punt extra)\n",
    "\n",
    "\n"
   ]
  }
 ],
 "metadata": {
  "kernelspec": {
   "display_name": "Python 3.8",
   "language": "python",
   "name": "python3"
  },
  "language_info": {
   "codemirror_mode": {
    "name": "ipython",
    "version": 3
   },
   "file_extension": ".py",
   "mimetype": "text/x-python",
   "name": "python",
   "nbconvert_exporter": "python",
   "pygments_lexer": "ipython3",
   "version": "3.8.10"
  }
 },
 "nbformat": 4,
 "nbformat_minor": 5
}
