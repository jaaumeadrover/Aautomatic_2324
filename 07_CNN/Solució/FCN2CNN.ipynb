{
 "cells": [
  {
   "cell_type": "code",
   "execution_count": 2,
   "metadata": {
    "id": "FaadnhbpCcsh",
    "tags": []
   },
   "outputs": [],
   "source": [
    "import torch\n",
    "import torch.nn as nn\n",
    "import torch.nn.functional as F\n",
    "import torch.optim as optim\n",
    "from torchvision import datasets, transforms\n",
    "import torch.optim as optim\n",
    "\n",
    "import matplotlib.pyplot as plt\n",
    "import numpy as np"
   ]
  },
  {
   "cell_type": "markdown",
   "metadata": {
    "id": "Ly7lrx-gCuLy"
   },
   "source": [
    "# Xarxes convolucionals\n",
    "\n",
    "L'objectiu d'avui és la creació d'una xarxa convolucional que obtengui com a mínim igual resultat que la xarxa completament connectada implementada la setmana anterior però amb menys paràmetres. Per poder realitzar comparacions directes emprarem el mateix conjunt de dades.\n",
    "\n",
    "Com objectius secundaris tenim:\n",
    "\n",
    "1. Aprenentatge de noves estratègies per evitar `overfitting`.\n",
    "2. Us d'un nou optimitzador.\n",
    "3. Visualització dels resultats dels filtres convolucionals."
   ]
  },
  {
   "cell_type": "code",
   "execution_count": 3,
   "metadata": {
    "id": "PwSoPhjXCvV9",
    "tags": []
   },
   "outputs": [],
   "source": [
    "# El label del dataset és l'índex de la llista labels. Cada posició de la llista és un codi ASCII. Podeu emprar la funció chr per fer la transformació\n",
    "\n",
    "# Definim una seqüència (composició) de transformacions\n",
    "transform=transforms.Compose([\n",
    "    transforms.ToTensor(),\n",
    "    transforms.Normalize((0.1307,), (0.3081,)) # mitjana, desviacio tipica (precalculats)\n",
    "    ])\n",
    "\n",
    "# Descarregam un dataset ja integrat en la llibreria Pytorch:\n",
    "train = datasets.EMNIST('data', split=\"digits\", train=True, download=True, transform=transform)  ## Si acabau podeu fer proves amb el split \"balanced\"\n",
    "test = datasets.EMNIST('data', split=\"digits\",train=False, transform=transform)"
   ]
  },
  {
   "cell_type": "code",
   "execution_count": 4,
   "metadata": {
    "tags": []
   },
   "outputs": [],
   "source": [
    "classes =  test.classes"
   ]
  },
  {
   "cell_type": "code",
   "execution_count": 5,
   "metadata": {
    "collapsed": false,
    "jupyter": {
     "outputs_hidden": false
    },
    "tags": []
   },
   "outputs": [],
   "source": [
    "train_batch_size = 64\n",
    "test_batch_size = 100\n",
    "\n",
    "# Transformam les dades en l'estructura necessaria per entrenar una xarxa\n",
    "train_loader = torch.utils.data.DataLoader(train, train_batch_size)\n",
    "test_loader = torch.utils.data.DataLoader(test, test_batch_size)"
   ]
  },
  {
   "cell_type": "markdown",
   "metadata": {
    "id": "s8i4Mg8KuD3r"
   },
   "source": [
    "## Definició de la xarxa\n",
    "\n",
    "### Feina a fer\n",
    "\n",
    "1. Definir la primera xarxa convolucional. A continuació teniu una llista de les capes que podeu emprar:\n",
    "\n",
    "\n",
    "- `Conv2d`: Capa convolucional en 2 dimensions. Com a paràmetres principals trobarem:\n",
    "\n",
    "  - in_channels: canals d'entrada.\n",
    "  - out_channels : canals de sortida (nombre de filtres).\n",
    "  - kernel_size: mida del filtre.\n",
    "  - stride: desplaçament del filtre. Típicament pren per valor 1.\n",
    "  - padding: ampliació de la imatge per evitar pèrdua de dimensionalitat.\n",
    "\n",
    "- `MaxPool2d`: Capa de max pooling. Aquesta capa no té paràmetres entrenables. Però si:\n",
    "\n",
    "  - kernel_size: Mida del filtre del qual es seleccionarà el màxim.\n",
    "  - stride: desplaçament del filtre.\n",
    "\n",
    "- `Dropout`: Dropout és un mètode de regularització (evitar `overfitting`) que aproxima l'entrenament d'un gran nombre de xarxes neuronals amb diferents arquitectures en paral·lel. Durant l'entrenament, una part de les sortides de la capa s'ignoren aleatòriament o s'abandonen. Això té l'efecte de fer que la capa sembli i es tracti com una capa amb un nombre diferent de nodes i connectivitat a la capa anterior. En efecte, cada actualització d'una capa durant l'entrenament es realitza amb una vista diferent de la capa configurada. Hem d'especificar quines capes tenen `dropout` de manera individual. Té un únic paràmetre amb valor per defecte $p=0.5$ Els valors típics d'aquest paràmetre varien entre $0.5$ i $0.8$.\n",
    "\n",
    "\n",
    "- `Linear`\n",
    "\n",
    "- `ReLU`\n",
    "\n",
    "\n",
    "2. Per posibilitar la visualització de les imatges passades per les capes convolucionals farem que funció `forward` tengui diverses sortides (diferents valors de `return`) un per cada capa convolucional de la xarxa."
   ]
  },
  {
   "cell_type": "code",
   "execution_count": 6,
   "metadata": {
    "id": "IQvdRDtTHdRy",
    "tags": []
   },
   "outputs": [],
   "source": [
    "class Net(nn.Module):\n",
    "    def __init__(self):\n",
    "        super(Net, self).__init__()\n",
    "        self.conv_1 = nn.Conv2d(in_channels=1, out_channels=8, kernel_size=3, stride=1, padding=1)\n",
    "        self.conv_2 = nn.Conv2d(in_channels=8, out_channels=16, kernel_size=3, stride=1, padding=1)\n",
    "        self.max_pool2d = nn.MaxPool2d(kernel_size=2, stride=2)\n",
    "        self.linear_1 = nn.Linear(7*7*16, 32)\n",
    "        self.linear_2 = nn.Linear(32, 10)\n",
    "        self.dropout = nn.Dropout(p=0.5)\n",
    "        self.relu = nn.ReLU()\n",
    "\n",
    "    def forward(self, x):\n",
    "        y = self.conv_1(x)\n",
    "        x = self.max_pool2d(y)\n",
    "        z = self.conv_2(x)\n",
    "        x = self.max_pool2d(z)\n",
    "        x = torch.flatten(x, 1)\n",
    "        x = self.linear_1(x)\n",
    "        x = self.dropout(x)\n",
    "        x = self.relu(x)\n",
    "        x = self.linear_2(x)\n",
    "\n",
    "        output = F.log_softmax(x, dim=1)\n",
    "        return output, y, z"
   ]
  },
  {
   "cell_type": "markdown",
   "metadata": {
    "id": "A6ISOL_hCk7g"
   },
   "source": [
    "## Entrenament\n",
    "\n",
    "Això no varia massa de la setmana anterior\n",
    "\n",
    "### Feina a fer\n",
    "\n",
    "1. Modificar la sortida de la xarxa, ara retorna diversos valors, encara que aquí només us interessa un."
   ]
  },
  {
   "cell_type": "code",
   "execution_count": 7,
   "metadata": {
    "id": "h9OLtpPzClch",
    "tags": []
   },
   "outputs": [],
   "source": [
    "def train(model, device, train_loader, optimizer, epoch, log_interval=100, verbose=True):\n",
    "    \n",
    "    model.train()\n",
    "\n",
    "    loss_v = 0\n",
    "\n",
    "    for batch_idx, (data, target) in enumerate(train_loader):\n",
    "    \n",
    "        data, target = data.to(device), target.to(device)\n",
    "        optimizer.zero_grad()\n",
    "        output, _, _ = model(data)\n",
    "         ## Aquesta setmana empram la cross_entropy com una funció a diferència de la stmana passada\n",
    "        loss = F.cross_entropy(output, target, reduction='sum')\n",
    "        loss.backward()\n",
    "        optimizer.step()\n",
    "        if batch_idx % log_interval == 0 and verbose:\n",
    "            print('Train Epoch: {} [{}/{} ({:.0f}%)]\\tLoss: {:.6f}, Average: {:.6f}'.format(\n",
    "                epoch, batch_idx * len(data), len(train_loader.dataset),\n",
    "                100. * batch_idx / len(train_loader), loss.item(), loss.item()/ len(data)))\n",
    "        loss_v += loss.item()\n",
    "\n",
    "    loss_v /= len(train_loader.dataset)\n",
    "    print('\\nTrain set: Average loss: {:.4f}\\n'.format(loss_v))\n",
    " \n",
    "    return loss_v\n",
    "\n",
    "\n",
    "def test(model, device, test_loader):\n",
    "    model.eval()\n",
    "    test_loss = 0\n",
    "    correct = 0\n",
    "    with torch.no_grad():\n",
    "        for data, target in test_loader:\n",
    "            data, target = data.to(device), target.to(device)\n",
    "            output, _, _ = model(data)\n",
    "            test_loss += F.cross_entropy(output, target, reduction='sum') \n",
    "            pred = output.argmax(dim=1, keepdim=True)  # get the index of the max probability\n",
    "            correct += pred.eq(target.view_as(pred)).sum().item()\n",
    " \n",
    "  \n",
    "    test_loss /= len(test_loader.dataset)\n",
    "\n",
    "    print('\\nTest set: Average loss: {:.4f}, Accuracy: {}/{} ({:.0f}%)\\n'.format(\n",
    "        test_loss, correct, len(test_loader.dataset),\n",
    "        100. * correct / len(test_loader.dataset)))\n",
    "    \n",
    "    return test_loss"
   ]
  },
  {
   "cell_type": "markdown",
   "metadata": {
    "id": "RBGKL43vsUnD"
   },
   "source": [
    "A continuació definim els paràmetres d'entrenament i el bucle principal:\n",
    "\n",
    "### Adam\n",
    "\n",
    "Aquesta setmana introduirem un nou algorisme d'optimització anomenat `Adam`. Fins ara hem emprat el descens del gradient (`SGD`). \n",
    "\n",
    "`Adam()` és un algorisme d'optimització amplament emprat, tal com el descens del gradient, és iteratiu. A la literatura trobam arguments que indiquen que, tot i que Adam convergeix més ràpidament, SGD  generalitza millor que Adam i, per tant, resulta en un rendiment final millor. \n",
    "\n",
    "[Més info](https://medium.com/geekculture/a-2021-guide-to-improving-cnns-optimizers-adam-vs-sgd-495848ac6008)\n",
    "\n",
    "\n",
    "### Feina a fer:\n",
    "1. Mostrar el nombre de paràmetres de la xarxa i compara-ho amb el nombre de paràmetres amb la xarxa de la setmana passada)\n",
    "```\n",
    "pytorch_total_params = sum(p.numel() for p in model.parameters() if p.requires_grad)\n",
    "```\n",
    "2. Dibuixar els gràfics de la funció de pèrdua amb les dues funcions d'optimització que coneixem."
   ]
  },
  {
   "cell_type": "code",
   "execution_count": 8,
   "metadata": {
    "id": "cNIBWqAwsVSb",
    "tags": []
   },
   "outputs": [
    {
     "name": "stdout",
     "output_type": "stream",
     "text": [
      "Train Epoch: 0 [0/240000 (0%)]\tLoss: 145.032684, Average: 2.266136\n",
      "Train Epoch: 0 [6400/240000 (3%)]\tLoss: 145.855789, Average: 2.278997\n",
      "Train Epoch: 0 [12800/240000 (5%)]\tLoss: 142.791916, Average: 2.231124\n",
      "Train Epoch: 0 [19200/240000 (8%)]\tLoss: 144.212173, Average: 2.253315\n",
      "Train Epoch: 0 [25600/240000 (11%)]\tLoss: 140.967529, Average: 2.202618\n",
      "Train Epoch: 0 [32000/240000 (13%)]\tLoss: 138.417236, Average: 2.162769\n",
      "Train Epoch: 0 [38400/240000 (16%)]\tLoss: 139.224228, Average: 2.175379\n",
      "Train Epoch: 0 [44800/240000 (19%)]\tLoss: 133.060532, Average: 2.079071\n",
      "Train Epoch: 0 [51200/240000 (21%)]\tLoss: 130.467194, Average: 2.038550\n",
      "Train Epoch: 0 [57600/240000 (24%)]\tLoss: 128.016830, Average: 2.000263\n",
      "Train Epoch: 0 [64000/240000 (27%)]\tLoss: 125.382660, Average: 1.959104\n",
      "Train Epoch: 0 [70400/240000 (29%)]\tLoss: 122.083420, Average: 1.907553\n",
      "Train Epoch: 0 [76800/240000 (32%)]\tLoss: 114.702332, Average: 1.792224\n",
      "Train Epoch: 0 [83200/240000 (35%)]\tLoss: 113.175400, Average: 1.768366\n",
      "Train Epoch: 0 [89600/240000 (37%)]\tLoss: 111.965714, Average: 1.749464\n",
      "Train Epoch: 0 [96000/240000 (40%)]\tLoss: 104.596703, Average: 1.634323\n",
      "Train Epoch: 0 [102400/240000 (43%)]\tLoss: 93.459511, Average: 1.460305\n",
      "Train Epoch: 0 [108800/240000 (45%)]\tLoss: 103.878342, Average: 1.623099\n",
      "Train Epoch: 0 [115200/240000 (48%)]\tLoss: 92.171616, Average: 1.440181\n",
      "Train Epoch: 0 [121600/240000 (51%)]\tLoss: 90.730057, Average: 1.417657\n",
      "Train Epoch: 0 [128000/240000 (53%)]\tLoss: 92.228966, Average: 1.441078\n",
      "Train Epoch: 0 [134400/240000 (56%)]\tLoss: 75.844849, Average: 1.185076\n",
      "Train Epoch: 0 [140800/240000 (59%)]\tLoss: 93.141907, Average: 1.455342\n",
      "Train Epoch: 0 [147200/240000 (61%)]\tLoss: 77.246613, Average: 1.206978\n",
      "Train Epoch: 0 [153600/240000 (64%)]\tLoss: 86.146179, Average: 1.346034\n",
      "Train Epoch: 0 [160000/240000 (67%)]\tLoss: 76.723305, Average: 1.198802\n",
      "Train Epoch: 0 [166400/240000 (69%)]\tLoss: 90.710205, Average: 1.417347\n",
      "Train Epoch: 0 [172800/240000 (72%)]\tLoss: 68.659279, Average: 1.072801\n",
      "Train Epoch: 0 [179200/240000 (75%)]\tLoss: 69.080986, Average: 1.079390\n",
      "Train Epoch: 0 [185600/240000 (77%)]\tLoss: 66.691742, Average: 1.042058\n",
      "Train Epoch: 0 [192000/240000 (80%)]\tLoss: 69.182976, Average: 1.080984\n",
      "Train Epoch: 0 [198400/240000 (83%)]\tLoss: 77.264137, Average: 1.207252\n",
      "Train Epoch: 0 [204800/240000 (85%)]\tLoss: 68.207603, Average: 1.065744\n",
      "Train Epoch: 0 [211200/240000 (88%)]\tLoss: 68.903145, Average: 1.076612\n",
      "Train Epoch: 0 [217600/240000 (91%)]\tLoss: 75.410263, Average: 1.178285\n",
      "Train Epoch: 0 [224000/240000 (93%)]\tLoss: 65.479424, Average: 1.023116\n",
      "Train Epoch: 0 [230400/240000 (96%)]\tLoss: 61.713093, Average: 0.964267\n",
      "Train Epoch: 0 [236800/240000 (99%)]\tLoss: 58.855080, Average: 0.919611\n",
      "\n",
      "Train set: Average loss: 1.5588\n",
      "\n",
      "\n",
      "Test set: Average loss: 0.6791, Accuracy: 34196/40000 (85%)\n",
      "\n",
      "Train Epoch: 1 [0/240000 (0%)]\tLoss: 57.951214, Average: 0.905488\n",
      "Train Epoch: 1 [6400/240000 (3%)]\tLoss: 67.276810, Average: 1.051200\n",
      "Train Epoch: 1 [12800/240000 (5%)]\tLoss: 54.611477, Average: 0.853304\n",
      "Train Epoch: 1 [19200/240000 (8%)]\tLoss: 55.506111, Average: 0.867283\n",
      "Train Epoch: 1 [25600/240000 (11%)]\tLoss: 64.906471, Average: 1.014164\n",
      "Train Epoch: 1 [32000/240000 (13%)]\tLoss: 67.931190, Average: 1.061425\n",
      "Train Epoch: 1 [38400/240000 (16%)]\tLoss: 62.929760, Average: 0.983277\n",
      "Train Epoch: 1 [44800/240000 (19%)]\tLoss: 53.234413, Average: 0.831788\n",
      "Train Epoch: 1 [51200/240000 (21%)]\tLoss: 40.241753, Average: 0.628777\n",
      "Train Epoch: 1 [57600/240000 (24%)]\tLoss: 69.843315, Average: 1.091302\n",
      "Train Epoch: 1 [64000/240000 (27%)]\tLoss: 60.136845, Average: 0.939638\n",
      "Train Epoch: 1 [70400/240000 (29%)]\tLoss: 46.141167, Average: 0.720956\n",
      "Train Epoch: 1 [76800/240000 (32%)]\tLoss: 53.687626, Average: 0.838869\n",
      "Train Epoch: 1 [83200/240000 (35%)]\tLoss: 52.137405, Average: 0.814647\n",
      "Train Epoch: 1 [89600/240000 (37%)]\tLoss: 76.443848, Average: 1.194435\n",
      "Train Epoch: 1 [96000/240000 (40%)]\tLoss: 54.124710, Average: 0.845699\n",
      "Train Epoch: 1 [102400/240000 (43%)]\tLoss: 42.827248, Average: 0.669176\n",
      "Train Epoch: 1 [108800/240000 (45%)]\tLoss: 67.675339, Average: 1.057427\n",
      "Train Epoch: 1 [115200/240000 (48%)]\tLoss: 50.797482, Average: 0.793711\n",
      "Train Epoch: 1 [121600/240000 (51%)]\tLoss: 49.994606, Average: 0.781166\n",
      "Train Epoch: 1 [128000/240000 (53%)]\tLoss: 54.495628, Average: 0.851494\n",
      "Train Epoch: 1 [134400/240000 (56%)]\tLoss: 38.096157, Average: 0.595252\n",
      "Train Epoch: 1 [140800/240000 (59%)]\tLoss: 55.203457, Average: 0.862554\n",
      "Train Epoch: 1 [147200/240000 (61%)]\tLoss: 50.735546, Average: 0.792743\n",
      "Train Epoch: 1 [153600/240000 (64%)]\tLoss: 52.913284, Average: 0.826770\n",
      "Train Epoch: 1 [160000/240000 (67%)]\tLoss: 51.509331, Average: 0.804833\n",
      "Train Epoch: 1 [166400/240000 (69%)]\tLoss: 50.203983, Average: 0.784437\n",
      "Train Epoch: 1 [172800/240000 (72%)]\tLoss: 35.815601, Average: 0.559619\n",
      "Train Epoch: 1 [179200/240000 (75%)]\tLoss: 50.779591, Average: 0.793431\n",
      "Train Epoch: 1 [185600/240000 (77%)]\tLoss: 47.512970, Average: 0.742390\n",
      "Train Epoch: 1 [192000/240000 (80%)]\tLoss: 55.642067, Average: 0.869407\n",
      "Train Epoch: 1 [198400/240000 (83%)]\tLoss: 55.211163, Average: 0.862674\n",
      "Train Epoch: 1 [204800/240000 (85%)]\tLoss: 45.127411, Average: 0.705116\n",
      "Train Epoch: 1 [211200/240000 (88%)]\tLoss: 46.933624, Average: 0.733338\n",
      "Train Epoch: 1 [217600/240000 (91%)]\tLoss: 54.055923, Average: 0.844624\n",
      "Train Epoch: 1 [224000/240000 (93%)]\tLoss: 51.204411, Average: 0.800069\n",
      "Train Epoch: 1 [230400/240000 (96%)]\tLoss: 39.834526, Average: 0.622414\n",
      "Train Epoch: 1 [236800/240000 (99%)]\tLoss: 49.599590, Average: 0.774994\n",
      "\n",
      "Train set: Average loss: 0.8030\n",
      "\n",
      "\n",
      "Test set: Average loss: 0.3781, Accuracy: 35893/40000 (90%)\n",
      "\n"
     ]
    }
   ],
   "source": [
    "use_cuda = False\n",
    "torch.manual_seed(33)\n",
    "\n",
    "if use_cuda:\n",
    "    device = torch.device(\"cuda\")\n",
    "else:\n",
    "    device = torch.device(\"cpu\")\n",
    "\n",
    "epochs = 2\n",
    "lr =0.00001\n",
    "\n",
    "model = Net().to(device)\n",
    "\n",
    "optimizer = optimizer = optim.Adam(model.parameters(), lr=lr)\n",
    "\n",
    "# Guardam el valor de peèrdua mig de cada iteració (època)\n",
    "train_l = np.zeros((epochs))\n",
    "test_l = np.zeros((epochs))\n",
    "\n",
    "# Bucle d'entrenament\n",
    "for epoch in range(0, epochs):\n",
    "    train_l[epoch] = train(model, device, train_loader, optimizer, epoch)\n",
    "    test_l[epoch]  = test(model, device, test_loader)\n"
   ]
  },
  {
   "cell_type": "markdown",
   "metadata": {
    "tags": []
   },
   "source": [
    "Sempre va bé veure les gràfiques d'entrenament"
   ]
  },
  {
   "cell_type": "code",
   "execution_count": null,
   "metadata": {
    "tags": []
   },
   "outputs": [],
   "source": [
    "plt.title(\"Resultats de l'entrenament\")\n",
    "plt.plot(range(1, (epochs + 1)), train_l,  c=\"red\", label=\"train\")\n",
    "plt.plot(range(1,  (epochs + 1)), test_l,  c=\"green\", label=\"test\")\n",
    "plt.legend();"
   ]
  },
  {
   "cell_type": "markdown",
   "metadata": {
    "id": "wjeMWK8cJkqN"
   },
   "source": [
    "## Resultats\n",
    "\n",
    "Aquí visualitzarem els resultats d'aprenentatge de la xarxa. \n",
    "\n",
    "### Feina a fer:\n",
    "\n",
    "1. Fer una predicció del primer _batch_ del conjunt de _test_.\n",
    "2. Visualitzar una imatge del _batch_ i posar la predicció i el groun truth com a títol de la imatge.\n",
    "3. Visualitzar el resultat de la mateixa imatge passada per tots els filtres de cada convolució de la vostra xarxa.\n",
    "4. **Extra**: Fer la matriu de confusió de les 10 classes per poder entendre el que no estau fent bé (la xarxa no està fent bé).\n",
    "\n",
    "A tenir en compte:\n",
    "\n",
    "#### Subplots\n",
    "\n",
    "Per fer graelles d'imatges podeu empar la funció `subplots`. Més [informació](https://matplotlib.org/stable/api/_as_gen/matplotlib.pyplot.subplots.html)\n",
    "\n",
    "#### Device\n",
    "\n",
    "Si heu emprat _GPU_ per accelerar el procés d'entrenament, els resultats que obtenim de la xarxa també seràn a la _GPU_. **Pytorch** proporciona la funció `cpu()` que retorna una còpia d'aquest objecte a la memòria de la CPU.\n",
    "\n",
    "#### Detach\n",
    "Per poder operar amb els resultats de la predicció emprarem la funció `detach` que retorna un nou Tensor \"separat\" del graf (xarxa) en curs.\n",
    "\n",
    "Per tant per transformar el tensor que retorna la xarxa en un array de la lliberia _Numpy_ caldria fer el següent:\n",
    "\n",
    "  ```\n",
    "  resultat_np = resultat.detach().numpy()\n",
    "  ```\n",
    "Si a més hem executat l'entrenament en _GPU_:\n",
    "  ```\n",
    "  resultat_np = resultat.cpu().detach().numpy()\n",
    "  ```\n"
   ]
  },
  {
   "cell_type": "markdown",
   "metadata": {},
   "source": [
    "#### 1. Predicció del conjunt de test"
   ]
  },
  {
   "cell_type": "code",
   "execution_count": null,
   "metadata": {
    "tags": []
   },
   "outputs": [],
   "source": [
    "from sklearn.metrics import accuracy_score\n",
    "\n",
    "model.eval() # Posam la xarxa en mode avaluació\n",
    "\n",
    "targets = []\n",
    "predictions = []\n",
    "\n",
    "with torch.no_grad(): # desactiva el càlcul de gradients, no ho necessitam per l'inferència. Estalvia memòria i fa més ràpids els càlculs\n",
    "    for data, target in test_loader:\n",
    "        data, target = data.to(device), target.to(device)\n",
    "        \n",
    "        output,_ , _ = model(data)\n",
    "        pred = output.argmax(dim=1, keepdim=True)  # index amb la max probabilitat\n",
    "        targets.extend(target.tolist())\n",
    "        predictions.extend(torch.flatten(pred.cpu()).tolist())\n",
    "        \n",
    "targets = np.asarray(targets)\n",
    "predictions = np.asarray(predictions)\n",
    "\n",
    "print(f\"Accuracy: {accuracy_score(targets, predictions)}\")"
   ]
  },
  {
   "cell_type": "markdown",
   "metadata": {},
   "source": [
    "#### 2 Visualització de la primera imatge del batch i veure la seva predicció"
   ]
  },
  {
   "cell_type": "code",
   "execution_count": null,
   "metadata": {
    "id": "SYKUppOc_4JE"
   },
   "outputs": [],
   "source": [
    "def generador(loader):\n",
    "    for data, target in test_loader:\n",
    "        data, target = data.to(device), target.to(device)\n",
    "        yield data, target\n",
    "\n",
    "gen = generador(test_loader)\n",
    "\n",
    "data, true_labels = next(gen)\n",
    "\n",
    "model.eval()\n",
    "\n",
    "output, f1, f2 = model(data)\n",
    "\n",
    "labels = output.detach().cpu().numpy()\n",
    "images = data.cpu().numpy()\n",
    "labels = np.argmax(labels, axis=1)\n",
    "\n",
    "plt.title(f'Pred: {classes[labels[0]]} - True: {classes[int(true_labels[0])]}')\n",
    "plt.imshow(images[0,0,:,:]);"
   ]
  },
  {
   "cell_type": "markdown",
   "metadata": {},
   "source": [
    " Sortida de la primera capa convolucional"
   ]
  },
  {
   "cell_type": "markdown",
   "metadata": {},
   "source": [
    "#### 3 Visualitzar el resultat de la mateixa imatge passada per tots els filtres de cada convolució de la xarxa."
   ]
  },
  {
   "cell_type": "code",
   "execution_count": null,
   "metadata": {
    "tags": []
   },
   "outputs": [],
   "source": [
    "rows= 2\n",
    "cols = 4\n",
    "img_count = 0\n",
    "\n",
    "fig, axes = plt.subplots(nrows=rows, ncols=cols, figsize=(24, 12))\n",
    "fig.suptitle('Resultat de la primera capa de convolucions', fontsize=16)\n",
    "\n",
    "for i in range(rows):\n",
    "    for j in range(cols):        \n",
    "        if img_count < rows*cols:\n",
    "            axes[i, j].imshow(f1.detach().cpu().numpy()[1,img_count,:,:])\n",
    "            \n",
    "            img_count+=1\n",
    "            \n",
    "fig.set\n",
    "plt.show()"
   ]
  },
  {
   "cell_type": "markdown",
   "metadata": {
    "tags": []
   },
   "source": [
    "#### 4 Fer la matriu de confusió de les 10 classes per poder entendre el que no estau fent bé (la xarxa no està fent bé)."
   ]
  },
  {
   "cell_type": "code",
   "execution_count": null,
   "metadata": {
    "tags": []
   },
   "outputs": [],
   "source": [
    "import seaborn as sns\n",
    "from sklearn.metrics import confusion_matrix\n",
    "\n",
    "cm = confusion_matrix(targets, predictions)\n",
    "\n",
    "# Visualize confusion matrix with seaborn heatmap\n",
    "plt.figure(figsize=(10, 8))\n",
    "sns.heatmap(cm, annot=True, cmap='Blues', fmt='d')\n",
    "plt.xlabel('Prediccions')\n",
    "plt.ylabel('Ground Truth')\n",
    "plt.title('Matriu de confusió')\n",
    "plt.show()"
   ]
  },
  {
   "cell_type": "markdown",
   "metadata": {},
   "source": [
    "### Nombre de paràmetres de la xarxa"
   ]
  },
  {
   "cell_type": "code",
   "execution_count": null,
   "metadata": {
    "tags": []
   },
   "outputs": [],
   "source": [
    "pytorch_total_params = sum(p.numel() for p in model.parameters() if p.requires_grad)\n",
    "pytorch_total_params"
   ]
  },
  {
   "cell_type": "code",
   "execution_count": null,
   "metadata": {},
   "outputs": [],
   "source": []
  }
 ],
 "metadata": {
  "accelerator": "GPU",
  "colab": {
   "provenance": []
  },
  "gpuClass": "standard",
  "kernelspec": {
   "display_name": "Python 3 (ipykernel)",
   "language": "python",
   "name": "python3"
  },
  "language_info": {
   "codemirror_mode": {
    "name": "ipython",
    "version": 3
   },
   "file_extension": ".py",
   "mimetype": "text/x-python",
   "name": "python",
   "nbconvert_exporter": "python",
   "pygments_lexer": "ipython3",
   "version": "3.11.5"
  }
 },
 "nbformat": 4,
 "nbformat_minor": 4
}
